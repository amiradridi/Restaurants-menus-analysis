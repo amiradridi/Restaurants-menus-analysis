{
 "cells": [
  {
   "cell_type": "code",
   "execution_count": 1,
   "metadata": {},
   "outputs": [],
   "source": [
    "import pandas as pd"
   ]
  },
  {
   "cell_type": "markdown",
   "metadata": {},
   "source": [
    "## read data"
   ]
  },
  {
   "cell_type": "code",
   "execution_count": 2,
   "metadata": {},
   "outputs": [],
   "source": [
    "#Change excel files names here\n",
    "\n",
    "#name of the database excel file\n",
    "database_name = 'Recipes database.xlsx'\n",
    "\n",
    "#Neme of the restaurant excel file\n",
    "data_name = 'excel sheet 3.xlsx'\n",
    "\n",
    "#enter the name of the database excel file result\n",
    "result_excel = \"./Recipes database updated.xlsx\""
   ]
  },
  {
   "cell_type": "code",
   "execution_count": 3,
   "metadata": {},
   "outputs": [],
   "source": [
    "def get_data(excel_sheet_name):\n",
    "    xls_file = pd.ExcelFile(excel_sheet_name)\n",
    "    sheets = xls_file.sheet_names\n",
    "    sides = pd.DataFrame()\n",
    "    desserts = pd.DataFrame()\n",
    "    single_items = pd.read_excel(excel_sheet_name,sheet_name='single items')\n",
    "    if 'sides' in sheets:\n",
    "        sides = pd.read_excel(excel_sheet_name,sheet_name='sides')\n",
    "    if 'drinks-desserts' in sheets:\n",
    "        desserts = pd.read_excel(excel_sheet_name,sheet_name='drinks-desserts')\n",
    "    return single_items,sides,desserts"
   ]
  },
  {
   "cell_type": "code",
   "execution_count": 4,
   "metadata": {},
   "outputs": [],
   "source": [
    "def get_database(database):\n",
    "    single_items = pd.read_excel(database,sheet_name='single items')\n",
    "    sides = pd.read_excel(database,sheet_name='sides')\n",
    "    drinks_desserts = pd.read_excel(database,sheet_name='drinks-desserts')\n",
    "    return single_items,sides,drinks_desserts"
   ]
  },
  {
   "cell_type": "code",
   "execution_count": 5,
   "metadata": {},
   "outputs": [],
   "source": [
    "data_single_items,data_sides,data_drinks_desserts = get_data(data_name)\n",
    "single_items,sides,drinks_desserts = get_database(database_name)"
   ]
  },
  {
   "cell_type": "markdown",
   "metadata": {},
   "source": [
    "## add items to database\n"
   ]
  },
  {
   "cell_type": "code",
   "execution_count": 6,
   "metadata": {},
   "outputs": [],
   "source": [
    "def add_items(data,database):\n",
    "    database_items = database['menu'].unique()\n",
    "    database_items_lower = []\n",
    "    for i in database_items:\n",
    "        database_items_lower.append(str(i).lower())\n",
    "    for j,row in data.iterrows():\n",
    "        item = str(data['menu'][j]).lower()\n",
    "        if item not in database_items_lower:\n",
    "            new_item = pd.DataFrame({'menu': [data['menu'][j]], 'Recipe Cost' : [data['Recipe Cost'][j]], 'Research links' : [data['Research links'][j]], 'Meal recipe' : [data['Meal recipe'][j]]})\n",
    "            database = database.append(new_item, ignore_index=True)\n",
    "    return database"
   ]
  },
  {
   "cell_type": "code",
   "execution_count": 7,
   "metadata": {},
   "outputs": [
    {
     "name": "stderr",
     "output_type": "stream",
     "text": [
      "C:\\Users\\dridi\\AppData\\Local\\Temp/ipykernel_28656/3699972420.py:10: FutureWarning: The frame.append method is deprecated and will be removed from pandas in a future version. Use pandas.concat instead.\n",
      "  database = database.append(new_item, ignore_index=True)\n"
     ]
    }
   ],
   "source": [
    "single_items=add_items(data_single_items,single_items)\n",
    "if len(data_sides)!=0:\n",
    "    sides=add_items(data_sides,sides)\n",
    "if len(data_drinks_desserts)!=0:\n",
    "    drinks_desserts=add_items(data_drinks_desserts,drinks_desserts)"
   ]
  },
  {
   "cell_type": "code",
   "execution_count": 8,
   "metadata": {},
   "outputs": [
    {
     "name": "stdout",
     "output_type": "stream",
     "text": [
      "398\n",
      "51\n",
      "43\n"
     ]
    }
   ],
   "source": [
    "print(single_items.shape[0])\n",
    "print(sides.shape[0])\n",
    "print(drinks_desserts.shape[0])"
   ]
  },
  {
   "cell_type": "markdown",
   "metadata": {},
   "source": [
    "## save updated database "
   ]
  },
  {
   "cell_type": "code",
   "execution_count": 9,
   "metadata": {},
   "outputs": [],
   "source": [
    "writer = pd.ExcelWriter(result_excel, engine = 'xlsxwriter')\n",
    "single_items.to_excel(writer, sheet_name = 'single items',index=False)\n",
    "sides.to_excel(writer, sheet_name = 'sides',index=False)\n",
    "drinks_desserts.to_excel(writer, sheet_name = 'drinks-desserts',index=False)\n",
    "writer.save()"
   ]
  }
 ],
 "metadata": {
  "kernelspec": {
   "display_name": "Python 3 (ipykernel)",
   "language": "python",
   "name": "python3"
  },
  "language_info": {
   "codemirror_mode": {
    "name": "ipython",
    "version": 3
   },
   "file_extension": ".py",
   "mimetype": "text/x-python",
   "name": "python",
   "nbconvert_exporter": "python",
   "pygments_lexer": "ipython3",
   "version": "3.8.5"
  }
 },
 "nbformat": 4,
 "nbformat_minor": 4
}
