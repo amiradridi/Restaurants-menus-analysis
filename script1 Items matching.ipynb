{
 "cells": [
  {
   "cell_type": "code",
   "execution_count": 1,
   "metadata": {},
   "outputs": [],
   "source": [
    "import pandas as pd "
   ]
  },
  {
   "cell_type": "markdown",
   "metadata": {},
   "source": [
    "## read data"
   ]
  },
  {
   "cell_type": "code",
   "execution_count": 2,
   "metadata": {},
   "outputs": [],
   "source": [
    "#Enter the name of the restaurant excel file\n",
    "excel_sheet_name = \"excel sheet 1.xlsx\"\n",
    "\n",
    "#Enter the database excel file name here\n",
    "database_excel_name = \"Recipes database.xlsx\"\n",
    "\n",
    "#enter the name of the excel file result\n",
    "result_excel = \"./excel sheet 2.xlsx\""
   ]
  },
  {
   "cell_type": "code",
   "execution_count": 3,
   "metadata": {},
   "outputs": [],
   "source": [
    "def import_data(excel_sheet_name):\n",
    "    xls_file = pd.ExcelFile(excel_sheet_name)\n",
    "    sheets = xls_file.sheet_names\n",
    "    sides = pd.DataFrame()\n",
    "    desserts = pd.DataFrame()\n",
    "    single_items = pd.read_excel(excel_sheet_name,sheet_name='single items')\n",
    "    if 'sides' in sheets:\n",
    "        sides = pd.read_excel(excel_sheet_name,sheet_name='sides')\n",
    "    if 'drinks-desserts' in sheets:\n",
    "        desserts = pd.read_excel(excel_sheet_name,sheet_name='drinks-desserts')\n",
    "    return single_items,sides,desserts"
   ]
  },
  {
   "cell_type": "code",
   "execution_count": 4,
   "metadata": {},
   "outputs": [],
   "source": [
    "single_items,sides,desserts = import_data(excel_sheet_name)\n",
    "db_single_items,db_sides,db_desserts = import_data(database_excel_name)"
   ]
  },
  {
   "cell_type": "code",
   "execution_count": 5,
   "metadata": {},
   "outputs": [
    {
     "name": "stdout",
     "output_type": "stream",
     "text": [
      "357\n"
     ]
    }
   ],
   "source": [
    "print(db_single_items.shape[0])"
   ]
  },
  {
   "cell_type": "code",
   "execution_count": 6,
   "metadata": {},
   "outputs": [
    {
     "name": "stdout",
     "output_type": "stream",
     "text": [
      "38\n"
     ]
    }
   ],
   "source": [
    "print(db_desserts.shape[0])"
   ]
  },
  {
   "cell_type": "code",
   "execution_count": 7,
   "metadata": {},
   "outputs": [
    {
     "data": {
      "text/plain": [
       "46"
      ]
     },
     "execution_count": 7,
     "metadata": {},
     "output_type": "execute_result"
    }
   ],
   "source": [
    "(db_sides.shape[0])"
   ]
  },
  {
   "cell_type": "markdown",
   "metadata": {},
   "source": [
    "# matching items' names"
   ]
  },
  {
   "cell_type": "code",
   "execution_count": 8,
   "metadata": {},
   "outputs": [],
   "source": [
    "def common_words_number(base_item_words,research_item_words):\n",
    "    words_founded_number =0\n",
    "    for word in research_item_words: \n",
    "        if (word in base_item_words):\n",
    "            words_founded_number +=1\n",
    "    return(words_founded_number)  "
   ]
  },
  {
   "cell_type": "code",
   "execution_count": 9,
   "metadata": {},
   "outputs": [],
   "source": [
    "def matching_names(data,database):\n",
    "    matchings=[]\n",
    "    for i,row in data.iterrows():\n",
    "        item = data['menu'][i].lower()\n",
    "        words=item.split()\n",
    "\n",
    "        for j,line in database.iterrows():\n",
    "            database_item = database['menu'][j].lower()\n",
    "            database_item_words=database_item.split()\n",
    "            if 'or' in database_item_words :\n",
    "                database_item_words.remove('or')\n",
    "            if 'and' in database_item_words :\n",
    "                database_item_words.remove('and')\n",
    "            words_founded_number_in_database = common_words_number(database_item_words,words)\n",
    "            if words == database_item_words:\n",
    "                data['Recipe Cost'][i] = database['Recipe Cost'][j]\n",
    "                data['Research links'][i] = \"Matched with \"+database_item +\"\\nFounded in the recipe cost database at the line \" + str(j+2)\n",
    "                data['Meal recipe'][i] = database['Meal recipe'][j]\n",
    "                \n",
    "                \n",
    "            elif ((len(words)==1) & (len(database_item_words)>1)) | ((len(database_item_words) ==1) & (len(words)>1)): \n",
    "                if (words_founded_number_in_database >= 1):\n",
    "                    data['Recipe Cost'][i] = database['Recipe Cost'][j]\n",
    "                    data['Research links'][i] = \"Matched with \"+database_item +\"\\nFounded in the recipe cost database at the line \" + str(j+2)\n",
    "                    data['Meal recipe'][i] = database['Meal recipe'][j]\n",
    "                    \n",
    "                \n",
    "            else:\n",
    "                    if words_founded_number_in_database>=2:\n",
    "                        data['Recipe Cost'][i] = database['Recipe Cost'][j]\n",
    "                        data['Research links'][i] = \"Matched with \"+database_item +\"\\nFounded in the recipe cost database at the line \" + str(j+2)\n",
    "                        data['Meal recipe'][i] = database['Meal recipe'][j]\n",
    "                        \n",
    "        if (data['Recipe Cost'][i]!=0):\n",
    "            matchings.append(data['menu'][i])\n",
    "    return data,matchings"
   ]
  },
  {
   "cell_type": "code",
   "execution_count": 10,
   "metadata": {
    "scrolled": true
   },
   "outputs": [
    {
     "name": "stderr",
     "output_type": "stream",
     "text": [
      "C:\\Users\\dridi\\AppData\\Local\\Temp/ipykernel_19628/1894637490.py:23: SettingWithCopyWarning: \n",
      "A value is trying to be set on a copy of a slice from a DataFrame\n",
      "\n",
      "See the caveats in the documentation: https://pandas.pydata.org/pandas-docs/stable/user_guide/indexing.html#returning-a-view-versus-a-copy\n",
      "  data['Recipe Cost'][i] = database['Recipe Cost'][j]\n",
      "C:\\Users\\dridi\\AppData\\Local\\Temp/ipykernel_19628/1894637490.py:24: SettingWithCopyWarning: \n",
      "A value is trying to be set on a copy of a slice from a DataFrame\n",
      "\n",
      "See the caveats in the documentation: https://pandas.pydata.org/pandas-docs/stable/user_guide/indexing.html#returning-a-view-versus-a-copy\n",
      "  data['Research links'][i] = \"Matched with \"+database_item +\"\\nFounded in the recipe cost database at the line \" + str(j+2)\n",
      "C:\\Users\\dridi\\AppData\\Local\\Temp/ipykernel_19628/1894637490.py:25: SettingWithCopyWarning: \n",
      "A value is trying to be set on a copy of a slice from a DataFrame\n",
      "\n",
      "See the caveats in the documentation: https://pandas.pydata.org/pandas-docs/stable/user_guide/indexing.html#returning-a-view-versus-a-copy\n",
      "  data['Meal recipe'][i] = database['Meal recipe'][j]\n",
      "C:\\Users\\dridi\\AppData\\Local\\Temp/ipykernel_19628/1894637490.py:30: SettingWithCopyWarning: \n",
      "A value is trying to be set on a copy of a slice from a DataFrame\n",
      "\n",
      "See the caveats in the documentation: https://pandas.pydata.org/pandas-docs/stable/user_guide/indexing.html#returning-a-view-versus-a-copy\n",
      "  data['Recipe Cost'][i] = database['Recipe Cost'][j]\n",
      "C:\\Users\\dridi\\AppData\\Local\\Temp/ipykernel_19628/1894637490.py:16: SettingWithCopyWarning: \n",
      "A value is trying to be set on a copy of a slice from a DataFrame\n",
      "\n",
      "See the caveats in the documentation: https://pandas.pydata.org/pandas-docs/stable/user_guide/indexing.html#returning-a-view-versus-a-copy\n",
      "  data['Recipe Cost'][i] = database['Recipe Cost'][j]\n",
      "C:\\Users\\dridi\\AppData\\Local\\Temp/ipykernel_19628/1894637490.py:17: SettingWithCopyWarning: \n",
      "A value is trying to be set on a copy of a slice from a DataFrame\n",
      "\n",
      "See the caveats in the documentation: https://pandas.pydata.org/pandas-docs/stable/user_guide/indexing.html#returning-a-view-versus-a-copy\n",
      "  data['Research links'][i] = \"Matched with \"+database_item +\"\\nFounded in the recipe cost database at the line \" + str(j+2)\n",
      "C:\\Users\\dridi\\AppData\\Local\\Temp/ipykernel_19628/1894637490.py:18: SettingWithCopyWarning: \n",
      "A value is trying to be set on a copy of a slice from a DataFrame\n",
      "\n",
      "See the caveats in the documentation: https://pandas.pydata.org/pandas-docs/stable/user_guide/indexing.html#returning-a-view-versus-a-copy\n",
      "  data['Meal recipe'][i] = database['Meal recipe'][j]\n",
      "C:\\Users\\dridi\\AppData\\Local\\Temp/ipykernel_19628/1894637490.py:32: SettingWithCopyWarning: \n",
      "A value is trying to be set on a copy of a slice from a DataFrame\n",
      "\n",
      "See the caveats in the documentation: https://pandas.pydata.org/pandas-docs/stable/user_guide/indexing.html#returning-a-view-versus-a-copy\n",
      "  data['Meal recipe'][i] = database['Meal recipe'][j]\n"
     ]
    }
   ],
   "source": [
    "single_items,single_matchings = matching_names(single_items,db_single_items)\n",
    "if len(sides)!=0:\n",
    "    sides,sides_matchings = matching_names(sides,db_sides)\n",
    "if len(desserts)!=0:\n",
    "    desserts,desserts_matchings = matching_names(desserts,db_desserts)"
   ]
  },
  {
   "cell_type": "markdown",
   "metadata": {},
   "source": [
    "# save results"
   ]
  },
  {
   "cell_type": "code",
   "execution_count": 11,
   "metadata": {},
   "outputs": [],
   "source": [
    "writer = pd.ExcelWriter(result_excel, engine = 'xlsxwriter')\n",
    "single_items.to_excel(writer, sheet_name = 'single items',index=False)\n",
    "if len(sides)!=0:\n",
    "    sides.to_excel(writer, sheet_name = 'sides',index=False)\n",
    "if len(desserts)!=0:\n",
    "    desserts.to_excel(writer, sheet_name = 'drinks-desserts',index=False)\n",
    "writer.save()"
   ]
  }
 ],
 "metadata": {
  "kernelspec": {
   "display_name": "Python 3 (ipykernel)",
   "language": "python",
   "name": "python3"
  },
  "language_info": {
   "codemirror_mode": {
    "name": "ipython",
    "version": 3
   },
   "file_extension": ".py",
   "mimetype": "text/x-python",
   "name": "python",
   "nbconvert_exporter": "python",
   "pygments_lexer": "ipython3",
   "version": "3.8.5"
  }
 },
 "nbformat": 4,
 "nbformat_minor": 4
}
